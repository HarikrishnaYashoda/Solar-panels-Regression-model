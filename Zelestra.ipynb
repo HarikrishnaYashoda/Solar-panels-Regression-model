{
  "nbformat": 4,
  "nbformat_minor": 0,
  "metadata": {
    "colab": {
      "provenance": [],
      "authorship_tag": "ABX9TyM2mMtYnSGMIFf07NPfhb68",
      "include_colab_link": true
    },
    "kernelspec": {
      "name": "python3",
      "display_name": "Python 3"
    },
    "language_info": {
      "name": "python"
    }
  },
  "cells": [
    {
      "cell_type": "markdown",
      "metadata": {
        "id": "view-in-github",
        "colab_type": "text"
      },
      "source": [
        "<a href=\"https://colab.research.google.com/github/HarikrishnaYashoda/Solar-panels-Regression-model/blob/main/Zelestra.ipynb\" target=\"_parent\"><img src=\"https://colab.research.google.com/assets/colab-badge.svg\" alt=\"Open In Colab\"/></a>"
      ]
    },
    {
      "cell_type": "markdown",
      "source": [],
      "metadata": {
        "id": "KFuC9rBIfOXe"
      }
    },
    {
      "cell_type": "code",
      "source": [
        "pip install pandas numpy scikit-learn lightgbm"
      ],
      "metadata": {
        "colab": {
          "base_uri": "https://localhost:8080/"
        },
        "id": "A6o8d3xPfSMC",
        "outputId": "a1257064-b577-4560-9af9-f9569804e04d"
      },
      "execution_count": null,
      "outputs": [
        {
          "output_type": "stream",
          "name": "stdout",
          "text": [
            "Requirement already satisfied: pandas in /usr/local/lib/python3.11/dist-packages (2.2.2)\n",
            "Requirement already satisfied: numpy in /usr/local/lib/python3.11/dist-packages (2.0.2)\n",
            "Requirement already satisfied: scikit-learn in /usr/local/lib/python3.11/dist-packages (1.6.1)\n",
            "Requirement already satisfied: lightgbm in /usr/local/lib/python3.11/dist-packages (4.5.0)\n",
            "Requirement already satisfied: python-dateutil>=2.8.2 in /usr/local/lib/python3.11/dist-packages (from pandas) (2.9.0.post0)\n",
            "Requirement already satisfied: pytz>=2020.1 in /usr/local/lib/python3.11/dist-packages (from pandas) (2025.2)\n",
            "Requirement already satisfied: tzdata>=2022.7 in /usr/local/lib/python3.11/dist-packages (from pandas) (2025.2)\n",
            "Requirement already satisfied: scipy>=1.6.0 in /usr/local/lib/python3.11/dist-packages (from scikit-learn) (1.15.3)\n",
            "Requirement already satisfied: joblib>=1.2.0 in /usr/local/lib/python3.11/dist-packages (from scikit-learn) (1.5.1)\n",
            "Requirement already satisfied: threadpoolctl>=3.1.0 in /usr/local/lib/python3.11/dist-packages (from scikit-learn) (3.6.0)\n",
            "Requirement already satisfied: six>=1.5 in /usr/local/lib/python3.11/dist-packages (from python-dateutil>=2.8.2->pandas) (1.17.0)\n"
          ]
        }
      ]
    },
    {
      "cell_type": "code",
      "source": [
        "import pandas as pd\n",
        "import numpy as np\n",
        "from sklearn.model_selection import train_test_split\n",
        "from sklearn.preprocessing import StandardScaler, OneHotEncoder\n",
        "from sklearn.compose import ColumnTransformer\n",
        "from sklearn.pipeline import Pipeline\n",
        "from sklearn.impute import SimpleImputer\n",
        "from sklearn.metrics import mean_squared_error\n",
        "import lightgbm as lgb # Using LightGBM as an example, could be XGBoost, RandomForest, etc.\n"
      ],
      "metadata": {
        "id": "D-vxn9B4mtPK"
      },
      "execution_count": null,
      "outputs": []
    },
    {
      "cell_type": "code",
      "source": [
        "train_df = pd.read_csv('train.csv')\n",
        "test_df = pd.read_csv('test.csv')\n",
        "sample_submission = pd.read_csv('sample_submission.csv')\n",
        "# sample_submission = pd.read_csv('sample_submission.csv') # If you need to look at its structure"
      ],
      "metadata": {
        "id": "UXmoqtdlm0qA"
      },
      "execution_count": null,
      "outputs": []
    },
    {
      "cell_type": "markdown",
      "source": [
        "**DATA EXPLORATION**"
      ],
      "metadata": {
        "id": "w9MsirLrphBp"
      }
    },
    {
      "cell_type": "code",
      "source": [
        "# 1. Check the shape of the data\n",
        "print(\"Shape of the training data:\", train_df.shape)\n",
        "\n",
        "# 2. Display the first few rows\n",
        "print(\"\\nFirst 5 rows of the training data:\")\n",
        "print(train_df.head())\n",
        "\n",
        "# 3. Get information about the data types and non-null values\n",
        "print(\"\\nData types and non-null values:\")\n",
        "train_df.info()\n",
        "\n",
        "# 4. Generate descriptive statistics\n",
        "print(\"\\nDescriptive statistics:\")\n",
        "print(train_df.describe())\n",
        "\n",
        "# 5. Check for missing values\n",
        "print(\"\\nPercentage of missing values:\")\n",
        "print(train_df.isnull().sum() / len(train_df) * 100)\n",
        "\n",
        "# 6. Analyze the distribution of the target variable ('efficiency')\n",
        "import matplotlib.pyplot as plt\n",
        "import seaborn as sns\n",
        "\n",
        "plt.figure(figsize=(8, 6))\n",
        "sns.histplot(train_df['efficiency'], kde=True)\n",
        "plt.title('Distribution of Efficiency')\n",
        "plt.xlabel('Efficiency')\n",
        "plt.ylabel('Frequency')\n",
        "plt.show()\n"
      ],
      "metadata": {
        "colab": {
          "base_uri": "https://localhost:8080/",
          "height": 1000
        },
        "id": "7oeAEL2bpUW3",
        "outputId": "533c959a-a900-4043-bfca-d6c6a99b2025"
      },
      "execution_count": null,
      "outputs": [
        {
          "output_type": "stream",
          "name": "stdout",
          "text": [
            "Shape of the training data: (20000, 17)\n",
            "\n",
            "First 5 rows of the training data:\n",
            "   id  temperature  irradiance            humidity  panel_age  \\\n",
            "0   0     7.817315  576.179270   41.24308670850264  32.135501   \n",
            "1   1    24.785727  240.003973  1.3596482765960705  19.977460   \n",
            "2   2    46.652695  687.612799   91.26536837560256   1.496401   \n",
            "3   3    53.339567  735.141179   96.19095521176159  18.491582   \n",
            "4   4     5.575374   12.241203  27.495073003585226  30.722697   \n",
            "\n",
            "   maintenance_count  soiling_ratio    voltage   current  module_temperature  \\\n",
            "0                4.0       0.803199  37.403527  1.963787           13.691147   \n",
            "1                8.0       0.479456  21.843315  0.241473           27.545096   \n",
            "2                4.0       0.822398  48.222882  4.191800           43.363708   \n",
            "3                3.0       0.837529  46.295748  0.960567           57.720436   \n",
            "4                6.0       0.551833   0.000000  0.898062            6.786263   \n",
            "\n",
            "   cloud_coverage          wind_speed            pressure string_id  \\\n",
            "0       62.494044   12.82491203459621  1018.8665053152533        A1   \n",
            "1       43.851238  12.012043660984917  1025.6238537572883        D4   \n",
            "2             NaN   1.814399755560454  1010.9226539809573        C3   \n",
            "3       67.361473   8.736258932034128  1021.8466633134253        A1   \n",
            "4        3.632000    0.52268384077164  1008.5559577591927        B2   \n",
            "\n",
            "  error_code installation_type  efficiency  \n",
            "0        NaN               NaN    0.562096  \n",
            "1        E00         dual-axis    0.396447  \n",
            "2        E00               NaN    0.573776  \n",
            "3        NaN         dual-axis    0.629009  \n",
            "4        E00             fixed    0.341874  \n",
            "\n",
            "Data types and non-null values:\n",
            "<class 'pandas.core.frame.DataFrame'>\n",
            "RangeIndex: 20000 entries, 0 to 19999\n",
            "Data columns (total 17 columns):\n",
            " #   Column              Non-Null Count  Dtype  \n",
            "---  ------              --------------  -----  \n",
            " 0   id                  20000 non-null  int64  \n",
            " 1   temperature         18999 non-null  float64\n",
            " 2   irradiance          19013 non-null  float64\n",
            " 3   humidity            20000 non-null  object \n",
            " 4   panel_age           18989 non-null  float64\n",
            " 5   maintenance_count   18973 non-null  float64\n",
            " 6   soiling_ratio       18990 non-null  float64\n",
            " 7   voltage             19007 non-null  float64\n",
            " 8   current             19023 non-null  float64\n",
            " 9   module_temperature  19022 non-null  float64\n",
            " 10  cloud_coverage      18990 non-null  float64\n",
            " 11  wind_speed          20000 non-null  object \n",
            " 12  pressure            20000 non-null  object \n",
            " 13  string_id           20000 non-null  object \n",
            " 14  error_code          14088 non-null  object \n",
            " 15  installation_type   14972 non-null  object \n",
            " 16  efficiency          20000 non-null  float64\n",
            "dtypes: float64(10), int64(1), object(6)\n",
            "memory usage: 2.6+ MB\n",
            "\n",
            "Descriptive statistics:\n",
            "                 id   temperature    irradiance     panel_age  \\\n",
            "count  20000.000000  18999.000000  19013.000000  18989.000000   \n",
            "mean    9999.500000     25.077241    501.273896     17.509758   \n",
            "std     5773.647028     12.513129    250.926590     10.097557   \n",
            "min        0.000000      0.000000   -597.278646      0.001264   \n",
            "25%     4999.750000     16.853522    332.227277      8.777905   \n",
            "50%     9999.500000     24.720345    499.654730     17.497731   \n",
            "75%    14999.250000     32.848917    668.416734     26.340761   \n",
            "max    19999.000000    147.394168   1537.810349     34.998379   \n",
            "\n",
            "       maintenance_count  soiling_ratio       voltage       current  \\\n",
            "count       18973.000000   18990.000000  19007.000000  19023.000000   \n",
            "mean            4.012070       0.698879     16.242251      1.713396   \n",
            "std             2.002268       0.172244     17.889031      1.152953   \n",
            "min             0.000000       0.400149      0.000000      0.000054   \n",
            "25%             3.000000       0.550654      0.000000      0.772311   \n",
            "50%             4.000000       0.697663     12.350138      1.558413   \n",
            "75%             5.000000       0.847838     26.557322      2.474744   \n",
            "max            15.000000       0.999949    494.279016      7.315597   \n",
            "\n",
            "       module_temperature  cloud_coverage    efficiency  \n",
            "count        19022.000000    18990.000000  20000.000000  \n",
            "mean            29.923807       51.378575      0.510260  \n",
            "std             12.125405       48.473664      0.140420  \n",
            "min              0.000000        0.000244      0.000000  \n",
            "25%             21.522124       25.081618      0.445613  \n",
            "50%             29.857669       49.704133      0.515709  \n",
            "75%             38.094943       75.052824      0.590324  \n",
            "max             65.000000     1000.000000      0.987066  \n",
            "\n",
            "Percentage of missing values:\n",
            "id                     0.000\n",
            "temperature            5.005\n",
            "irradiance             4.935\n",
            "humidity               0.000\n",
            "panel_age              5.055\n",
            "maintenance_count      5.135\n",
            "soiling_ratio          5.050\n",
            "voltage                4.965\n",
            "current                4.885\n",
            "module_temperature     4.890\n",
            "cloud_coverage         5.050\n",
            "wind_speed             0.000\n",
            "pressure               0.000\n",
            "string_id              0.000\n",
            "error_code            29.560\n",
            "installation_type     25.140\n",
            "efficiency             0.000\n",
            "dtype: float64\n"
          ]
        },
        {
          "output_type": "display_data",
          "data": {
            "text/plain": [
              "<Figure size 800x600 with 1 Axes>"
            ],
            "image/png": "[encoded data removed]"
          },
          "metadata": {}
        }
      ]
    },
    {
      "cell_type": "code",
      "source": [
        "# Only select numeric columns\n",
        "numeric_df = train_df.select_dtypes(include='number')\n",
        "\n",
        "# Now compute correlation with 'efficiency'\n",
        "print(\"\\nCorrelation matrix:\")\n",
        "print(numeric_df.corr()['efficiency'].sort_values(ascending=False))\n"
      ],
      "metadata": {
        "colab": {
          "base_uri": "https://localhost:8080/"
        },
        "id": "NujdWY0rrdFG",
        "outputId": "f9a70310-924c-4ce2-ea09-a9543b589f5f"
      },
      "execution_count": null,
      "outputs": [
        {
          "output_type": "stream",
          "name": "stdout",
          "text": [
            "\n",
            "Correlation matrix:\n",
            "efficiency            1.000000\n",
            "irradiance            0.580167\n",
            "soiling_ratio         0.293931\n",
            "current               0.270045\n",
            "voltage               0.155419\n",
            "maintenance_count     0.016274\n",
            "id                    0.009166\n",
            "cloud_coverage       -0.010862\n",
            "temperature          -0.043876\n",
            "module_temperature   -0.049686\n",
            "panel_age            -0.187855\n",
            "Name: efficiency, dtype: float64\n"
          ]
        }
      ]
    },
    {
      "cell_type": "code",
      "source": [
        "if 'efficiency' in numeric_df.columns:\n",
        "    print(numeric_df.corr()['efficiency'].sort_values(ascending=False))\n",
        "else:\n",
        "    print(\"'efficiency' column is not numeric or not found.\")\n"
      ],
      "metadata": {
        "colab": {
          "base_uri": "https://localhost:8080/"
        },
        "id": "ojSLdFBpr9dn",
        "outputId": "b45e8240-edbc-4e17-9606-b94932db4ce0"
      },
      "execution_count": null,
      "outputs": [
        {
          "output_type": "stream",
          "name": "stdout",
          "text": [
            "efficiency            1.000000\n",
            "irradiance            0.580167\n",
            "soiling_ratio         0.293931\n",
            "current               0.270045\n",
            "voltage               0.155419\n",
            "maintenance_count     0.016274\n",
            "id                    0.009166\n",
            "cloud_coverage       -0.010862\n",
            "temperature          -0.043876\n",
            "module_temperature   -0.049686\n",
            "panel_age            -0.187855\n",
            "Name: efficiency, dtype: float64\n"
          ]
        }
      ]
    },
    {
      "cell_type": "markdown",
      "source": [
        "**DATA CLEANING**"
      ],
      "metadata": {
        "id": "2rqGbjJxsJtq"
      }
    },
    {
      "cell_type": "markdown",
      "source": [
        "Handling Missing Values"
      ],
      "metadata": {
        "id": "JCMnkVFAsg51"
      }
    },
    {
      "cell_type": "code",
      "source": [
        "# Separate features and target\n",
        "X = train_df.drop('efficiency', axis=1)\n",
        "y = train_df['efficiency']\n",
        "\n",
        "# Define categorical and numerical features\n",
        "categorical_features = X.select_dtypes(include=['object', 'category']).columns\n",
        "numerical_features = X.select_dtypes(include=np.number).columns\n",
        "\n",
        "# Create preprocessing pipelines for numerical and categorical features\n",
        "numerical_transformer = Pipeline(steps=[\n",
        "    ('imputer', SimpleImputer(strategy='mean')), # Impute missing numerical values with the mean\n",
        "    ('scaler', StandardScaler()) # Scale numerical features\n",
        "])\n",
        "\n",
        "categorical_transformer = Pipeline(steps=[\n",
        "    ('imputer', SimpleImputer(strategy='most_frequent')), # Impute missing categorical values with the most frequent value\n",
        "    ('onehot', OneHotEncoder(handle_unknown='ignore')) # One-hot encode categorical features\n",
        "])\n",
        "\n",
        "# Create a column transformer to apply different transformations to different columns\n",
        "preprocessor = ColumnTransformer(\n",
        "    transformers=[\n",
        "        ('num', numerical_transformer, numerical_features),\n",
        "        ('cat', categorical_transformer, categorical_features)\n",
        "    ])\n",
        "\n",
        "# Apply the preprocessing to the training data\n",
        "X_processed = preprocessor.fit_transform(X)\n",
        "\n",
        "# Convert the processed data back to a DataFrame (optional, but can be helpful)\n",
        "# The column names might be lost during the transformation, so you might need to handle that separately\n",
        "# For simplicity, we'll proceed with the processed numpy array for now."
      ],
      "metadata": {
        "id": "FQ41jef7sP1S"
      },
      "execution_count": null,
      "outputs": []
    },
    {
      "cell_type": "markdown",
      "source": [
        "Feature Engineering"
      ],
      "metadata": {
        "id": "ExLWzVs1tWjk"
      }
    },
    {
      "cell_type": "code",
      "source": [
        "# Separate features and target\n",
        "X_train = train_df.drop('efficiency', axis=1)\n",
        "y_train = train_df['efficiency']\n",
        "X_test = test_df.copy() # Prepare test data for preprocessing\n",
        "\n",
        "# Define categorical and numerical features (re-define if needed based on your data)\n",
        "categorical_features = X_train.select_dtypes(include=['object', 'category']).columns\n",
        "numerical_features = X_train.select_dtypes(include=np.number).columns\n",
        "\n",
        "# Import PolynomialFeatures\n",
        "from sklearn.preprocessing import PolynomialFeatures\n",
        "\n",
        "# Create preprocessing pipelines for numerical and categorical features\n",
        "numerical_transformer = Pipeline(steps=[\n",
        "    ('imputer', SimpleImputer(strategy='mean')), # Impute missing numerical values\n",
        "    # Add polynomial features (degree=2 as an example)\n",
        "    ('poly', PolynomialFeatures(degree=2, include_bias=False)),\n",
        "    ('scaler', StandardScaler()) # Scale numerical features\n",
        "])\n",
        "\n",
        "categorical_transformer = Pipeline(steps=[\n",
        "    ('imputer', SimpleImputer(strategy='most_frequent')), # Impute missing categorical values\n",
        "    ('onehot', OneHotEncoder(handle_unknown='ignore')) # One-hot encode categorical features\n",
        "])\n",
        "\n",
        "# Create a column transformer to apply different transformations\n",
        "preprocessor = ColumnTransformer(\n",
        "    transformers=[\n",
        "        ('num', numerical_transformer, numerical_features),\n",
        "        ('cat', categorical_transformer, categorical_features)\n",
        "    ],\n",
        "    remainder='passthrough' # Keep other columns (if any) that were not transformed\n",
        ")\n",
        "\n",
        "# Create the full preprocessing pipeline\n",
        "full_pipeline = Pipeline(steps=[('preprocessor', preprocessor)])\n",
        "\n",
        "# Apply the full preprocessing to the training and test data\n",
        "X_train_processed = full_pipeline.fit_transform(X_train, y_train)\n",
        "X_test_processed = full_pipeline.transform(X_test)\n",
        "\n",
        "print(\"Shape of processed training data:\", X_train_processed.shape)\n",
        "print(\"Shape of processed test data:\", X_test_processed.shape)\n",
        "\n",
        "# Now X_train_processed and X_test_processed contain the engineered and scaled features."
      ],
      "metadata": {
        "colab": {
          "base_uri": "https://localhost:8080/"
        },
        "id": "UC0HK5YitdCS",
        "outputId": "f5579c3d-4d60-475f-c5fb-80bed7da869a"
      },
      "execution_count": null,
      "outputs": [
        {
          "output_type": "stream",
          "name": "stdout",
          "text": [
            "Shape of processed training data: (20000, 59703)\n",
            "Shape of processed test data: (12000, 59703)\n"
          ]
        }
      ]
    },
    {
      "cell_type": "markdown",
      "source": [
        "DATA SPLITTING"
      ],
      "metadata": {
        "id": "5UZL91bNtxK7"
      }
    },
    {
      "cell_type": "code",
      "source": [
        "# Split the preprocessed training data into training and validation sets\n",
        "X_train_split, X_val_split, y_train_split, y_val_split = train_test_split(\n",
        "    X_train_processed, y_train, test_size=0.2, random_state=42\n",
        ")\n",
        "\n",
        "print(\"Shape of training set:\", X_train_split.shape)\n",
        "print(\"Shape of validation set:\", X_val_split.shape)\n",
        "print(\"Shape of training target:\", y_train_split.shape)\n",
        "print(\"Shape of validation target:\", y_val_split.shape)"
      ],
      "metadata": {
        "colab": {
          "base_uri": "https://localhost:8080/"
        },
        "id": "c8y8_5OCtoFG",
        "outputId": "81c7a3e3-ff9d-446e-d7e7-b5037accdec4"
      },
      "execution_count": null,
      "outputs": [
        {
          "output_type": "stream",
          "name": "stdout",
          "text": [
            "Shape of training set: (16000, 59703)\n",
            "Shape of validation set: (4000, 59703)\n",
            "Shape of training target: (16000,)\n",
            "Shape of validation target: (4000,)\n"
          ]
        }
      ]
    },
    {
      "cell_type": "markdown",
      "source": [
        "Model Training"
      ],
      "metadata": {
        "id": "eK-hzYq8uDUq"
      }
    },
    {
      "cell_type": "code",
      "source": [
        "pip install lightgbm==4.1.0"
      ],
      "metadata": {
        "colab": {
          "base_uri": "https://localhost:8080/"
        },
        "id": "lgdRA23Et8nb",
        "outputId": "8b21379a-00c8-4b4b-8800-6369280f8d0e"
      },
      "execution_count": null,
      "outputs": [
        {
          "output_type": "stream",
          "name": "stdout",
          "text": [
            "Collecting lightgbm==4.1.0\n",
            "  Downloading lightgbm-4.1.0-py3-none-manylinux_2_28_x86_64.whl.metadata (19 kB)\n",
            "Requirement already satisfied: numpy in /usr/local/lib/python3.11/dist-packages (from lightgbm==4.1.0) (2.0.2)\n",
            "Requirement already satisfied: scipy in /usr/local/lib/python3.11/dist-packages (from lightgbm==4.1.0) (1.15.3)\n",
            "Downloading lightgbm-4.1.0-py3-none-manylinux_2_28_x86_64.whl (3.1 MB)\n",
            "\u001b[2K   \u001b[90m━━━━━━━━━━━━━━━━━━━━━━━━━━━━━━━━━━━━━━━━\u001b[0m \u001b[32m3.1/3.1 MB\u001b[0m \u001b[31m27.5 MB/s\u001b[0m eta \u001b[36m0:00:00\u001b[0m\n",
            "\u001b[?25hInstalling collected packages: lightgbm\n",
            "  Attempting uninstall: lightgbm\n",
            "    Found existing installation: lightgbm 4.5.0\n",
            "    Uninstalling lightgbm-4.5.0:\n",
            "      Successfully uninstalled lightgbm-4.5.0\n",
            "Successfully installed lightgbm-4.1.0\n"
          ]
        }
      ]
    },
    {
      "cell_type": "code",
      "source": [
        "import lightgbm as lgb\n",
        "from sklearn.ensemble import RandomForestRegressor, GradientBoostingRegressor\n",
        "from xgboost import XGBRegressor\n",
        "from sklearn.metrics import mean_squared_error\n",
        "import numpy as np # Import numpy for square root\n",
        "\n",
        "# Initialize the LightGBM Regressor model\n",
        "# You can replace lgb.LGBMRegressor with RandomForestRegressor or XGBoostRegressor\n",
        "model = lgb.LGBMRegressor(random_state=42)\n",
        "\n",
        "# Train the model on the training data\n",
        "model.fit(X_train_split, y_train_split)\n",
        "\n",
        "# Make predictions on the validation data\n",
        "y_val_pred = model.predict(X_val_split)\n",
        "\n",
        "# Evaluate the model\n",
        "# Calculate Mean Squared Error first\n",
        "mse = mean_squared_error(y_val_split, y_val_pred)\n",
        "# Calculate Root Mean Squared Error manually by taking the square root of the MSE\n",
        "rmse = np.sqrt(mse)\n",
        "print(f\"Root Mean Squared Error on validation set: {rmse}\")\n",
        "\n",
        "# --- Experimenting with other models ---\n",
        "\n",
        "# Example with RandomForestRegressor\n",
        "# rf_model = RandomForestRegressor(random_state=42)\n",
        "# rf_model.fit(X_train_split, y_train_split)\n",
        "# y_val_pred_rf = rf_model.predict(X_val_split)\n",
        "# mse_rf = mean_squared_error(y_val_split, y_val_pred_rf)\n",
        "# rmse_rf = np.sqrt(mse_rf)\n",
        "# print(f\"Root Mean Squared Error (RandomForest): {rmse_rf}\")\n",
        "\n",
        "# Example with GradientBoostingRegressor\n",
        "# gb_model = GradientBoostingRegressor(random_state=42)\n",
        "# gb_model.fit(X_train_split, y_train_split)\n",
        "# y_val_pred_gb = gb_model.predict(X_val_split)\n",
        "# mse_gb = mean_squared_error(y_val_split, y_val_pred_gb)\n",
        "# rmse_gb = np.sqrt(mse_gb)\n",
        "# print(f\"Root Mean Squared Error (GradientBoosting): {rmse_gb}\")\n",
        "\n",
        "# Example with XGBoostRegressor (install xgboost if not already installed)\n",
        "# pip install xgboost==2.0.2\n",
        "# xgb_model = XGBRegressor(random_state=42)\n",
        "# xgb_model.fit(X_train_split, y_train_split)\n",
        "# y_val_pred_xgb = xgb_model.predict(X_val_split)\n",
        "# mse_xgb = mean_squared_error(y_val_split, y_val_pred_xgb)\n",
        "# rmse_xgb = np.sqrt(mse_xgb)\n",
        "# print(f\"Root Mean Squared Error (XGBoost): {rmse_xgb}\")"
      ],
      "metadata": {
        "colab": {
          "base_uri": "https://localhost:8080/"
        },
        "id": "gncO-OSquZ6S",
        "outputId": "e425fb63-2eb1-476d-facf-42b79db0707b"
      },
      "execution_count": null,
      "outputs": [
        {
          "output_type": "stream",
          "name": "stderr",
          "text": [
            "/usr/local/lib/python3.11/dist-packages/sklearn/utils/deprecation.py:151: FutureWarning: 'force_all_finite' was renamed to 'ensure_all_finite' in 1.6 and will be removed in 1.8.\n",
            "  warnings.warn(\n"
          ]
        },
        {
          "output_type": "stream",
          "name": "stdout",
          "text": [
            "[LightGBM] [Info] Auto-choosing col-wise multi-threading, the overhead of testing was 0.014702 seconds.\n",
            "You can set `force_col_wise=true` to remove the overhead.\n",
            "[LightGBM] [Info] Total Bins 16135\n",
            "[LightGBM] [Info] Number of data points in the train set: 16000, number of used features: 84\n",
            "[LightGBM] [Info] Start training from score 0.511069\n",
            "Root Mean Squared Error on validation set: 0.10699782227359089\n"
          ]
        },
        {
          "output_type": "stream",
          "name": "stderr",
          "text": [
            "/usr/local/lib/python3.11/dist-packages/sklearn/utils/deprecation.py:151: FutureWarning: 'force_all_finite' was renamed to 'ensure_all_finite' in 1.6 and will be removed in 1.8.\n",
            "  warnings.warn(\n"
          ]
        }
      ]
    },
    {
      "cell_type": "markdown",
      "source": [
        "Model Optimization"
      ],
      "metadata": {
        "id": "jFQYg3qju_qg"
      }
    },
    {
      "cell_type": "code",
      "source": [
        "from sklearn import metrics\n",
        "import numpy as np\n",
        "\n",
        "# Calculate the score using the specified metric\n",
        "score = 100 * (1 - np.sqrt(metrics.mean_squared_error(y_val_split, y_val_pred)))\n",
        "\n",
        "print(f\"Model Score on validation set: {score}\")"
      ],
      "metadata": {
        "colab": {
          "base_uri": "https://localhost:8080/"
        },
        "id": "nKe3t2BPxPTW",
        "outputId": "370506cc-e538-4b51-853e-d46b9d3c1d6b"
      },
      "execution_count": null,
      "outputs": [
        {
          "output_type": "stream",
          "name": "stdout",
          "text": [
            "Model Score on validation set: 89.3002177726409\n"
          ]
        }
      ]
    },
    {
      "cell_type": "code",
      "source": [
        "# Create the full preprocessing pipeline\n",
        "full_pipeline = Pipeline(steps=[('preprocessor', preprocessor)])\n",
        "\n",
        "# Apply the full preprocessing to the training and test data\n",
        "X_train_processed = full_pipeline.fit_transform(X_train, y_train)\n",
        "X_test_processed = full_pipeline.transform(X_test)\n",
        "\n",
        "print(\"Shape of processed training data:\", X_train_processed.shape)\n",
        "print(\"Shape of processed test data:\", X_test_processed.shape)"
      ],
      "metadata": {
        "colab": {
          "base_uri": "https://localhost:8080/"
        },
        "id": "V2J9wEgAyJDg",
        "outputId": "201e2da9-1f04-4ead-9a62-e2dd7f0133ea"
      },
      "execution_count": null,
      "outputs": [
        {
          "output_type": "stream",
          "name": "stdout",
          "text": [
            "Shape of processed training data: (20000, 59703)\n",
            "Shape of processed test data: (12000, 59703)\n"
          ]
        }
      ]
    },
    {
      "cell_type": "code",
      "source": [
        "# Make predictions on the test data\n",
        "test_predictions = model.predict(X_test_processed)\n",
        "\n",
        "# Display the first few predictions\n",
        "print(\"First 5 predictions on the test data:\")\n",
        "print(test_predictions[:5])"
      ],
      "metadata": {
        "colab": {
          "base_uri": "https://localhost:8080/"
        },
        "id": "CTVSjdxRyeD7",
        "outputId": "e2add82b-119a-4650-fa6e-c2042488fc5d"
      },
      "execution_count": null,
      "outputs": [
        {
          "output_type": "stream",
          "name": "stdout",
          "text": [
            "First 5 predictions on the test data:\n",
            "[0.40612351 0.51799877 0.55338601 0.47106908 0.47047949]\n"
          ]
        },
        {
          "output_type": "stream",
          "name": "stderr",
          "text": [
            "/usr/local/lib/python3.11/dist-packages/sklearn/utils/deprecation.py:151: FutureWarning: 'force_all_finite' was renamed to 'ensure_all_finite' in 1.6 and will be removed in 1.8.\n",
            "  warnings.warn(\n"
          ]
        }
      ]
    },
    {
      "cell_type": "code",
      "source": [],
      "metadata": {
        "id": "BgF2jZG_ymME"
      },
      "execution_count": null,
      "outputs": []
    },
    {
      "cell_type": "code",
      "source": [],
      "metadata": {
        "id": "g5glHCgD1OqU"
      },
      "execution_count": null,
      "outputs": []
    },
    {
      "cell_type": "code",
      "source": [
        "# Create a submission DataFrame\n",
        "submission_df = pd.DataFrame({'id': test_df['id'], 'efficiency': test_predictions})\n",
        "\n",
        "# Save the submission DataFrame to a CSV file\n",
        "submission_df.to_csv('submission.csv', index=False)\n",
        "\n",
        "print(\"Submission file created successfully: submission.csv\")\n",
        "\n",
        "# Summarize key findings and model performance\n",
        "print(\"\\n--- Summary of Key Findings and Model Performance ---\")\n",
        "print(\"Data Preprocessing:\")\n",
        "print(\"- Missing values were handled using imputation (mean for numerical, most frequent for categorical).\")\n",
        "print(\"- Numerical features were scaled using StandardScaler.\")\n",
        "print(\"- Categorical features were one-hot encoded.\")\n",
        "print(\"- Polynomial features were added to numerical features.\")\n",
        "print(\"Model Training:\")\n",
        "print(\"- A LightGBM Regressor model was trained.\")\n",
        "print(\"- The model was evaluated on a validation set.\")\n",
        "print(\"Model Performance:\")\n",
        "print(f\"- Root Mean Squared Error on the validation set: {rmse:.4f}\")\n",
        "print(f\"- Model Score on the validation set: {score:.4f}\")\n",
        "print(\"Submission:\")\n",
        "print(\"- Predictions were made on the processed test data.\")\n",
        "print(\"- A submission file 'submission.csv' was created with 'id' and predicted 'efficiency'.\")"
      ],
      "metadata": {
        "colab": {
          "base_uri": "https://localhost:8080/"
        },
        "id": "D_dFMu021PB5",
        "outputId": "b4f19eab-081e-467d-f1c0-b58eddb10f67"
      },
      "execution_count": null,
      "outputs": [
        {
          "output_type": "stream",
          "name": "stdout",
          "text": [
            "Submission file created successfully: submission.csv\n",
            "\n",
            "--- Summary of Key Findings and Model Performance ---\n",
            "Data Preprocessing:\n",
            "- Missing values were handled using imputation (mean for numerical, most frequent for categorical).\n",
            "- Numerical features were scaled using StandardScaler.\n",
            "- Categorical features were one-hot encoded.\n",
            "- Polynomial features were added to numerical features.\n",
            "Model Training:\n",
            "- A LightGBM Regressor model was trained.\n",
            "- The model was evaluated on a validation set.\n",
            "Model Performance:\n",
            "- Root Mean Squared Error on the validation set: 0.1070\n",
            "- Model Score on the validation set: 89.3002\n",
            "Submission:\n",
            "- Predictions were made on the processed test data.\n",
            "- A submission file 'submission.csv' was created with 'id' and predicted 'efficiency'.\n"
          ]
        }
      ]
    },
    {
      "cell_type": "code",
      "source": [
        "print(\"Shape of the submission DataFrame:\", submission_df.shape)"
      ],
      "metadata": {
        "colab": {
          "base_uri": "https://localhost:8080/"
        },
        "id": "___vC2J9btkZ",
        "outputId": "ae315c11-33dd-45e1-e14a-bfbbce7c35a4"
      },
      "execution_count": null,
      "outputs": [
        {
          "output_type": "stream",
          "name": "stdout",
          "text": [
            "Shape of the submission DataFrame: (12000, 2)\n"
          ]
        }
      ]
    },
    {
      "cell_type": "code",
      "source": [],
      "metadata": {
        "id": "cj61AZlpenke"
      },
      "execution_count": null,
      "outputs": []
    }
  ]
}